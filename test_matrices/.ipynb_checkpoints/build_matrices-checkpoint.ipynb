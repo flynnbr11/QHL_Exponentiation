{
 "cells": [
  {
   "cell_type": "markdown",
   "metadata": {},
   "source": [
    "# Generating some test matrices for variable problem sizes\n",
    "\n",
    "The dictionary where they are stored has the following keys:\n",
    "\n",
    "keys = [ \"standard\", \"early_inversion\", \"late_inversion\" ], indicating\n",
    " - S, standard: a list of matrices of growing dimensions you can exponentiate as they are\n",
    " - E, early_inversion: an equivalent list that you may try to see what happens when \"inverting the evolution\" i.e.\n",
    "   e^(-i S[m] t) e^(+i E[m] t) or 1-st order Trotterized e^(-i t (S[m]-E[m])) \n",
    "   given m the chosen size of the problem\n",
    " - L< late_inversion: same list as E, to test eventual numerical problems when L->S"
   ]
  },
  {
   "cell_type": "code",
   "execution_count": 1,
   "metadata": {},
   "outputs": [],
   "source": [
    "%matplotlib inline\n",
    "\n",
    "import qinfer as qi\n",
    "#import qutip as qt\n",
    "import numpy as np\n",
    "import scipy as sp\n",
    "from IPython.display import display, Math, Latex\n",
    "from functools import partial\n",
    "import matplotlib.pyplot as plt\n",
    "import importlib as imp"
   ]
  },
  {
   "cell_type": "code",
   "execution_count": 2,
   "metadata": {
    "collapsed": true
   },
   "outputs": [],
   "source": [
    "import datetime\n",
    "import os as os\n",
    "import time as time"
   ]
  },
  {
   "cell_type": "code",
   "execution_count": 3,
   "metadata": {},
   "outputs": [
    {
     "name": "stderr",
     "output_type": "stream",
     "text": [
      "ERROR:root:File `'LoggingCode.py'` not found.\n"
     ]
    }
   ],
   "source": [
    "import logging as logging\n",
    "import sys\n",
    "\n",
    "%run LoggingCode.py"
   ]
  },
  {
   "cell_type": "code",
   "execution_count": 10,
   "metadata": {},
   "outputs": [
    {
     "name": "stdout",
     "output_type": "stream",
     "text": [
      "Files will be saved in:\n",
      "/home/brian/qecdt/projectB/QHL_Exponentiation/test_matrices/tests/T\n"
     ]
    }
   ],
   "source": [
    "# tell the user where files will be saved\n",
    "dire = os.getcwd()\n",
    "dire = dire+\"/tests/T\"\n",
    "dire = os.path.normpath(dire)\n",
    "print('Files will be saved in:')\n",
    "print(dire)"
   ]
  },
  {
   "cell_type": "code",
   "execution_count": 17,
   "metadata": {
    "collapsed": true
   },
   "outputs": [],
   "source": [
    "# Add personalized library to PYTHONPATH\n",
    "sys.path.append(os.path.join( \"Libraries\",\"QML_lib\"))"
   ]
  },
  {
   "cell_type": "code",
   "execution_count": 18,
   "metadata": {},
   "outputs": [
    {
     "ename": "ImportError",
     "evalue": "No module named 'Norms'",
     "output_type": "error",
     "traceback": [
      "\u001b[0;31m---------------------------------------------------------------------------\u001b[0m",
      "\u001b[0;31mImportError\u001b[0m                               Traceback (most recent call last)",
      "\u001b[0;32m<ipython-input-18-d9e1f0e024e3>\u001b[0m in \u001b[0;36m<module>\u001b[0;34m()\u001b[0m\n\u001b[0;32m----> 1\u001b[0;31m \u001b[0;32mfrom\u001b[0m \u001b[0mNorms\u001b[0m \u001b[0;32mimport\u001b[0m \u001b[0;34m*\u001b[0m\u001b[0;34m\u001b[0m\u001b[0m\n\u001b[0m\u001b[1;32m      2\u001b[0m \u001b[0;32mfrom\u001b[0m \u001b[0mIOfuncts\u001b[0m \u001b[0;32mimport\u001b[0m \u001b[0;34m*\u001b[0m\u001b[0;34m\u001b[0m\u001b[0m\n\u001b[1;32m      3\u001b[0m \u001b[0;32mfrom\u001b[0m \u001b[0mEvalLoss\u001b[0m \u001b[0;32mimport\u001b[0m \u001b[0;34m*\u001b[0m\u001b[0;34m\u001b[0m\u001b[0m\n\u001b[1;32m      4\u001b[0m \u001b[0;34m\u001b[0m\u001b[0m\n\u001b[1;32m      5\u001b[0m \u001b[0;32mimport\u001b[0m \u001b[0mProbeStates\u001b[0m \u001b[0;32mas\u001b[0m \u001b[0mpros\u001b[0m\u001b[0;34m\u001b[0m\u001b[0m\n",
      "\u001b[0;31mImportError\u001b[0m: No module named 'Norms'"
     ]
    }
   ],
   "source": [
    "from Norms import *\n",
    "from IOfuncts import *\n",
    "from EvalLoss import *\n",
    "\n",
    "import ProbeStates as pros\n",
    "import multiPGH as mpgh\n",
    "import GenSim_IQLE as gsi\n",
    "import Evo as evo"
   ]
  },
  {
   "cell_type": "code",
   "execution_count": 7,
   "metadata": {},
   "outputs": [
    {
     "ename": "NameError",
     "evalue": "name 'pros' is not defined",
     "output_type": "error",
     "traceback": [
      "\u001b[0;31m---------------------------------------------------------------------------\u001b[0m",
      "\u001b[0;31mNameError\u001b[0m                                 Traceback (most recent call last)",
      "\u001b[0;32m<ipython-input-7-ca6ff3cb786b>\u001b[0m in \u001b[0;36m<module>\u001b[0;34m()\u001b[0m\n\u001b[0;32m----> 1\u001b[0;31m \u001b[0mimp\u001b[0m\u001b[0;34m.\u001b[0m\u001b[0mreload\u001b[0m\u001b[0;34m(\u001b[0m\u001b[0mpros\u001b[0m\u001b[0;34m)\u001b[0m\u001b[0;34m\u001b[0m\u001b[0m\n\u001b[0m\u001b[1;32m      2\u001b[0m \u001b[0mimp\u001b[0m\u001b[0;34m.\u001b[0m\u001b[0mreload\u001b[0m\u001b[0;34m(\u001b[0m\u001b[0mmpgh\u001b[0m\u001b[0;34m)\u001b[0m\u001b[0;34m\u001b[0m\u001b[0m\n\u001b[1;32m      3\u001b[0m \u001b[0mimp\u001b[0m\u001b[0;34m.\u001b[0m\u001b[0mreload\u001b[0m\u001b[0;34m(\u001b[0m\u001b[0mgsi\u001b[0m\u001b[0;34m)\u001b[0m\u001b[0;34m\u001b[0m\u001b[0m\n\u001b[1;32m      4\u001b[0m \u001b[0mimp\u001b[0m\u001b[0;34m.\u001b[0m\u001b[0mreload\u001b[0m\u001b[0;34m(\u001b[0m\u001b[0mevo\u001b[0m\u001b[0;34m)\u001b[0m\u001b[0;34m\u001b[0m\u001b[0m\n",
      "\u001b[0;31mNameError\u001b[0m: name 'pros' is not defined"
     ]
    }
   ],
   "source": [
    "imp.reload(pros)\n",
    "imp.reload(mpgh)\n",
    "imp.reload(gsi)\n",
    "imp.reload(evo)"
   ]
  },
  {
   "cell_type": "markdown",
   "metadata": {},
   "source": [
    "## Build up the matrices"
   ]
  },
  {
   "cell_type": "code",
   "execution_count": 9,
   "metadata": {},
   "outputs": [
    {
     "name": "stdout",
     "output_type": "stream",
     "text": [
      "Matrix of size(4, 4)\n",
      "Matrix of size(8, 8)\n",
      "Matrix of size(16, 16)\n",
      "Matrix of size(32, 32)\n",
      "Matrix of size(64, 64)\n",
      "Matrix of size(128, 128)\n",
      "Matrix of size(256, 256)\n",
      "Matrix of size(512, 512)\n",
      "Matrix of size(1024, 1024)\n"
     ]
    }
   ],
   "source": [
    "allmatrices = []\n",
    "earlyinvmatr = []\n",
    "lateinvmatr = []\n",
    "\n",
    "oplist = [evo.sigmax(), evo.sigmay(), evo.sigmaz()]\n",
    "\n",
    "for size in range(2,11):\n",
    "    select=np.round((len(oplist)-1)*np.random.rand(size))\n",
    "    newoplist = [oplist[int(i)] for i in select]\n",
    "    params=np.random.rand(size)\n",
    "    earlyparams=np.array([np.random.normal(loc=param, scale=0.5) for param in params])\n",
    "    lateparams=np.array([np.random.normal(loc=param, scale=0.001) for param in params])\n",
    "    \n",
    "    for i in range(len(params)-1):\n",
    "        if i==0:\n",
    "            output = np.tensordot(params[i]*newoplist[i], params[i+1]*newoplist[i+1], axes=0)\n",
    "            earlyout = np.tensordot(earlyparams[i]*newoplist[i], earlyparams[i+1]*newoplist[i+1], axes=0)\n",
    "            lateout = np.tensordot(lateparams[i]*newoplist[i], lateparams[i+1]*newoplist[i+1], axes=0)\n",
    "#             print('Done'+str(i))\n",
    "        else:\n",
    "            output = np.tensordot(output, params[i+1]*newoplist[i+1], axes=0)\n",
    "            earlyout = np.tensordot(earlyout, earlyparams[i+1]*newoplist[i+1], axes=0)\n",
    "            lateout = np.tensordot(lateout, lateparams[i+1]*newoplist[i+1], axes=0)\n",
    "#             print('Done'+str(i))\n",
    "    \n",
    "    output = np.reshape(output, [2**size,2**size])\n",
    "    earlyout = np.reshape(earlyout, [2**size,2**size])\n",
    "    lateout = np.reshape(lateout, [2**size,2**size])\n",
    "    print('Matrix of size'+str(output.shape))\n",
    "#     print('Matrix of size'+str(earlyout.shape))\n",
    "#     print('Matrix of size'+str(lateout.shape))\n",
    "    allmatrices.append(output)\n",
    "    earlyinvmatr.append(earlyout)\n",
    "    lateinvmatr.append(lateout)"
   ]
  },
  {
   "cell_type": "code",
   "execution_count": 238,
   "metadata": {},
   "outputs": [
    {
     "data": {
      "text/plain": [
       "['standard', 'early_inversion', 'late_inversion']"
      ]
     },
     "execution_count": 238,
     "metadata": {},
     "output_type": "execute_result"
    }
   ],
   "source": [
    "keys = [ \"standard\", \"early_inversion\", \"late_inversion\" ]\n",
    "keys"
   ]
  },
  {
   "cell_type": "code",
   "execution_count": 250,
   "metadata": {},
   "outputs": [
    {
     "data": {
      "text/plain": [
       "[(4, 4),\n",
       " (8, 8),\n",
       " (16, 16),\n",
       " (32, 32),\n",
       " (64, 64),\n",
       " (128, 128),\n",
       " (256, 256),\n",
       " (512, 512),\n",
       " (1024, 1024)]"
      ]
     },
     "execution_count": 250,
     "metadata": {},
     "output_type": "execute_result"
    }
   ],
   "source": [
    "[matrix.shape for matrix in matrixdict[\"standard\"]]"
   ]
  },
  {
   "cell_type": "code",
   "execution_count": 239,
   "metadata": {
    "collapsed": true
   },
   "outputs": [],
   "source": [
    "values = [allmatrices, earlyinvmatr, lateinvmatr ]"
   ]
  },
  {
   "cell_type": "code",
   "execution_count": 240,
   "metadata": {
    "collapsed": true
   },
   "outputs": [],
   "source": [
    "matrixdict = dict(zip(keys, values))"
   ]
  },
  {
   "cell_type": "markdown",
   "metadata": {},
   "source": [
    "## Import/Export stuff"
   ]
  },
  {
   "cell_type": "code",
   "execution_count": 245,
   "metadata": {
    "collapsed": true
   },
   "outputs": [],
   "source": [
    "import pickle\n",
    "PIK = \"evo_matrices_dims\"+str(allmatrices[0].shape[0])+\"-\"+str(allmatrices[-1].shape[0])+\".dat\""
   ]
  },
  {
   "cell_type": "code",
   "execution_count": 246,
   "metadata": {
    "collapsed": true
   },
   "outputs": [],
   "source": [
    "with open(PIK, \"wb\") as f:\n",
    "    pickle.dump(matrixdict, f)"
   ]
  },
  {
   "cell_type": "code",
   "execution_count": 247,
   "metadata": {
    "collapsed": true
   },
   "outputs": [],
   "source": [
    "with open(PIK, \"rb\") as f:\n",
    "    dataold = pickle.load(f)"
   ]
  },
  {
   "cell_type": "code",
   "execution_count": null,
   "metadata": {
    "collapsed": true
   },
   "outputs": [],
   "source": []
  }
 ],
 "metadata": {
  "anaconda-cloud": {},
  "kernelspec": {
   "display_name": "Python 3",
   "language": "python",
   "name": "python3"
  },
  "language_info": {
   "codemirror_mode": {
    "name": "ipython",
    "version": 3
   },
   "file_extension": ".py",
   "mimetype": "text/x-python",
   "name": "python",
   "nbconvert_exporter": "python",
   "pygments_lexer": "ipython3",
   "version": "3.5.2"
  }
 },
 "nbformat": 4,
 "nbformat_minor": 1
}
