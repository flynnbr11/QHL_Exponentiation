{
 "cells": [
  {
   "cell_type": "code",
   "execution_count": 10,
   "metadata": {},
   "outputs": [
    {
     "ename": "ImportError",
     "evalue": "No module named matrix_utils",
     "output_type": "error",
     "traceback": [
      "\u001b[0;31m---------------------------------------------------------------------------\u001b[0m",
      "\u001b[0;31mImportError\u001b[0m                               Traceback (most recent call last)",
      "\u001b[0;32m<ipython-input-10-97d400ad4e5a>\u001b[0m in \u001b[0;36m<module>\u001b[0;34m()\u001b[0m\n\u001b[1;32m      7\u001b[0m \u001b[0;32mimport\u001b[0m \u001b[0mnumpy\u001b[0m \u001b[0;32mas\u001b[0m \u001b[0mnp\u001b[0m\u001b[0;34m\u001b[0m\u001b[0m\n\u001b[1;32m      8\u001b[0m \u001b[0;32mimport\u001b[0m \u001b[0msys\u001b[0m\u001b[0;34m\u001b[0m\u001b[0m\n\u001b[0;32m----> 9\u001b[0;31m \u001b[0;32mimport\u001b[0m \u001b[0mmatrix_utils\u001b[0m \u001b[0;32mas\u001b[0m \u001b[0mmu\u001b[0m\u001b[0;34m\u001b[0m\u001b[0m\n\u001b[0m\u001b[1;32m     10\u001b[0m \u001b[0;32mimport\u001b[0m \u001b[0mrandom_matrix\u001b[0m \u001b[0;32mas\u001b[0m \u001b[0mrm\u001b[0m\u001b[0;34m\u001b[0m\u001b[0m\n\u001b[1;32m     11\u001b[0m \u001b[0mnp\u001b[0m\u001b[0;34m.\u001b[0m\u001b[0mset_printoptions\u001b[0m\u001b[0;34m(\u001b[0m\u001b[0mthreshold\u001b[0m\u001b[0;34m=\u001b[0m\u001b[0mnp\u001b[0m\u001b[0;34m.\u001b[0m\u001b[0minf\u001b[0m\u001b[0;34m)\u001b[0m\u001b[0;34m\u001b[0m\u001b[0m\n",
      "\u001b[0;31mImportError\u001b[0m: No module named matrix_utils"
     ]
    }
   ],
   "source": [
    "import scipy\n",
    "from scipy import linalg\n",
    "from scipy.sparse.linalg import LinearOperator\n",
    "from scipy.sparse import csr_matrix\n",
    "import time as time\n",
    "import matplotlib.pyplot as plt \n",
    "import numpy as np\n",
    "import sys\n",
    "import matrix_utils as mu\n",
    "import random_matrix as rm\n",
    "np.set_printoptions(threshold=np.inf)"
   ]
  },
  {
   "cell_type": "code",
   "execution_count": 11,
   "metadata": {},
   "outputs": [],
   "source": [
    "size=2\n",
    "mtx= rm.get_matrix(size)\n",
    "\n",
    "sparse_mtx = scipy.sparse.csc_matrix(mtx)\n",
    "scipy_output = scipy.sparse.linalg.expm(sparse_mtx)\n",
    "\n",
    "\n",
    "#expm_special_output = mu.expm_special(mtx)\n",
    "\n",
    "sparse_expm_special_output = scipy.sparse.csc_matrix(mtx)"
   ]
  },
  {
   "cell_type": "code",
   "execution_count": 9,
   "metadata": {},
   "outputs": [
    {
     "name": "stdout",
     "output_type": "stream",
     "text": [
      "0\n",
      "1\n",
      "2\n",
      "3\n",
      "(-0+0j)\n"
     ]
    }
   ],
   "source": [
    "rows = np.shape(mtx)[0]\n",
    "for i in range(rows):\n",
    "    print i\n",
    "print mtx[3][3]"
   ]
  },
  {
   "cell_type": "code",
   "execution_count": 6,
   "metadata": {},
   "outputs": [
    {
     "ename": "ImportError",
     "evalue": "No module named matrix_utils",
     "output_type": "error",
     "traceback": [
      "\u001b[0;31m---------------------------------------------------------------------------\u001b[0m",
      "\u001b[0;31mImportError\u001b[0m                               Traceback (most recent call last)",
      "\u001b[0;32m<ipython-input-6-35586c88a796>\u001b[0m in \u001b[0;36m<module>\u001b[0;34m()\u001b[0m\n\u001b[1;32m      7\u001b[0m \u001b[0;32mimport\u001b[0m \u001b[0mnumpy\u001b[0m \u001b[0;32mas\u001b[0m \u001b[0mnp\u001b[0m\u001b[0;34m\u001b[0m\u001b[0m\n\u001b[1;32m      8\u001b[0m \u001b[0;32mimport\u001b[0m \u001b[0msys\u001b[0m\u001b[0;34m\u001b[0m\u001b[0m\n\u001b[0;32m----> 9\u001b[0;31m \u001b[0;32mimport\u001b[0m \u001b[0mmatrix_utils\u001b[0m \u001b[0;32mas\u001b[0m \u001b[0mmu\u001b[0m\u001b[0;34m\u001b[0m\u001b[0m\n\u001b[0m\u001b[1;32m     10\u001b[0m \u001b[0;32mimport\u001b[0m \u001b[0mrandom_matrix\u001b[0m \u001b[0;32mas\u001b[0m \u001b[0mrm\u001b[0m\u001b[0;34m\u001b[0m\u001b[0m\n\u001b[1;32m     11\u001b[0m \u001b[0mnp\u001b[0m\u001b[0;34m.\u001b[0m\u001b[0mset_printoptions\u001b[0m\u001b[0;34m(\u001b[0m\u001b[0mthreshold\u001b[0m\u001b[0;34m=\u001b[0m\u001b[0mnp\u001b[0m\u001b[0;34m.\u001b[0m\u001b[0minf\u001b[0m\u001b[0;34m)\u001b[0m\u001b[0;34m\u001b[0m\u001b[0m\n",
      "\u001b[0;31mImportError\u001b[0m: No module named matrix_utils"
     ]
    }
   ],
   "source": [
    "import scipy\n",
    "from scipy import linalg\n",
    "from scipy.sparse.linalg import LinearOperator\n",
    "from scipy.sparse import csr_matrix\n",
    "import time as time\n",
    "import matplotlib.pyplot as plt \n",
    "import numpy as np\n",
    "import sys\n",
    "import matrix_utils as mu\n",
    "import random_matrix as rm\n",
    "np.set_printoptions(threshold=np.inf)\n",
    "\n",
    "# matrix_size: how many qubits. matrix will be square of 2^size X 2^size\n",
    "#matrix_sizes = [1,2,3]\n",
    "high=2 # max number of qubits to go to\n",
    "low=1 # Min number of qubits to simulate to\n",
    "matrix_sizes = range(low,high+1)\n",
    "track_times=np.zeros([len(matrix_sizes), 6])\n",
    "\n",
    "time_before_loop = time.time()\n",
    "\n",
    "for i in range(0,len(matrix_sizes)):\n",
    "\tsize=matrix_sizes[i]\n",
    "\tmtx= rm.get_matrix(size)\n",
    "\t\n",
    "\ta = time.time()\n",
    "\tlinalg.expm(mtx)\n",
    "\tb = time.time()\n",
    "\n",
    "\tsparse_mtx = scipy.sparse.csc_matrix(mtx)\n",
    "\te = time.time()\n",
    "\tscipy.sparse.linalg.expm(sparse_mtx)\n",
    "\tf = time.time()\n",
    "\n",
    "\n",
    "\tc=time.time()\n",
    "\tmu.expm_special(mtx)\n",
    "\td=time.time()\n",
    "\n",
    "\ttime_linalg = b-a\n",
    "\ttime_expm = d-c\n",
    "\ttime_sparse_linalg=f-e\n",
    "\n",
    "\ttrack_times[i,0]= size\n",
    "\ttrack_times[i,1]= time_linalg\n",
    "\ttrack_times[i,2]= time_sparse_linalg\n",
    "\ttrack_times[i,3] = time_expm\n",
    "\ttrack_times[i,4]= time_linalg/time_expm\n",
    "\ttrack_times[i,5]= time_sparse_linalg/time_expm\n",
    "\t\n",
    "\n",
    "\n",
    "plt.plot(basex=2)\n",
    "plt.semilogy(track_times[:,0], track_times[:,1], label='LinAlg', marker='o')\n",
    "plt.semilogy(track_times[:,0], track_times[:,2], label='Sparse LinAlg', marker='o')\n",
    "plt.semilogy(track_times[:,0], track_times[:,3], label='ExpmSpecial', marker='o')\n",
    "plt.title('Times for expm functions up to '+str(high)+'qubits')\n",
    "plt.xticks(np.arange(min(track_times[:,0]), max(track_times[:,0])+1, 1))\n",
    "plt.xlabel('Number of Qubits')\n",
    "plt.ylabel('Time (seconds)')\n",
    "plt.legend()\n",
    "plt.savefig('comparison_plots/times_'+str(low)+'_to_'+str(high)+'_qubits.png')\n",
    "\n",
    "plt.clf()\n",
    "plt.plot(basex=2)\n",
    "plt.plot(track_times[:,0], track_times[:,4], label='Ratio improvement Vs Linalg', marker='o')\n",
    "plt.plot(track_times[:,0], track_times[:,5], label='Ratio improvement Vs Sparse LinAlg', marker='o')\n",
    "plt.axhline(y=1, color='black', label='Improvement/Loss Cutoff')\n",
    "plt.title('ExpmSpecial Improvement up to '+str(high)+'qubits')\n",
    "plt.xticks(np.arange(min(track_times[:,0]), max(track_times[:,0])+1, 1))\n",
    "plt.xlabel('Number of Qubits')\n",
    "plt.ylabel('Improvement')\n",
    "plt.legend()\n",
    "plt.savefig('comparison_plots/improvement_'+str(low)+'_to_'+str(high)+'_qubits.png')\n",
    "\n",
    "\n",
    "time_after_loop = time.time()\n",
    "time_taken = time_after_loop-time_before_loop\n",
    "print 'Time to do all calculations: ', time_taken\n"
   ]
  },
  {
   "cell_type": "code",
   "execution_count": null,
   "metadata": {
    "collapsed": true
   },
   "outputs": [],
   "source": []
  }
 ],
 "metadata": {
  "kernelspec": {
   "display_name": "python2.7",
   "language": "python",
   "name": "python2.7"
  },
  "language_info": {
   "codemirror_mode": {
    "name": "ipython",
    "version": 2
   },
   "file_extension": ".py",
   "mimetype": "text/x-python",
   "name": "python",
   "nbconvert_exporter": "python",
   "pygments_lexer": "ipython2",
   "version": "2.7.13"
  }
 },
 "nbformat": 4,
 "nbformat_minor": 2
}
