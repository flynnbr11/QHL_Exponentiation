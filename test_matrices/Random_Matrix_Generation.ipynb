{
 "cells": [
  {
   "cell_type": "code",
   "execution_count": 203,
   "metadata": {},
   "outputs": [],
   "source": [
    "import numpy as np\n",
    "import sys\n",
    "np.set_printoptions(threshold=np.inf)\n",
    "\n",
    "def sigmax():\n",
    "    return np.array([[0+0j, 1+0j], [1+0j, 0+0j]])\n",
    "\n",
    "def sigmay():\n",
    "    return np.array([[0+0j, 0-1j], [0+1j, 0+0j]])\n",
    "\n",
    "def sigmaz():\n",
    "    return np.array([[1+0j, 0+0j], [0+0j, -1+0j]])\n",
    "\n",
    "def get_matrix(matrix_size):\n",
    "    oplist = [sigmax(), sigmay(), sigmaz()]\n",
    "    size = matrix_size\n",
    "    select=np.round((len(oplist)-1)*np.random.rand(size))\n",
    "    newoplist = [oplist[int(i)] for i in select]\n",
    "    params=np.random.rand(size)\n",
    "\n",
    "    if len(params)==1:\n",
    "        output = params[0]*newoplist[0]\n",
    "    else:\n",
    "        for i in range(len(params)-1):\n",
    "                if i==0:\n",
    "#                     output = np.tensordot(params[i]*newoplist[i], params[i+1]*newoplist[i+1], axes=0)\n",
    "                    output = np.kron(params[i]*newoplist[i], params[i+1]*newoplist[i+1])\n",
    "                else:\n",
    "#                     output = np.tensordot(output, params[i+1]*newoplist[i+1], axes=0)\n",
    "                    output = np.kron(output, params[i+1]*newoplist[i+1])\n",
    "        before_reshape = output\n",
    "        output = np.reshape(output, [2**size,2**size])\n",
    "    return output\n",
    "\n",
    "\n",
    "def check_diagonal(out):\n",
    "    non_zero_elements = np.count_nonzero(out)\n",
    "    total_num_elements = np.size(out)\n",
    "    sparsity = float(non_zero_elements)/float(total_num_elements)\n",
    "    print('Sparsity:', sparsity, 'Number elements: ', total_num_elements, 'Nonzero: ', non_zero_elements)\n",
    "    \n",
    "    rows=np.shape(out)[0]\n",
    "    cols=np.shape(out)[1]\n",
    "    problem =0 \n",
    "    if rows!=cols: \n",
    "        print('Not a square matrix.')\n",
    "        problem = 1\n",
    "    else: \n",
    "        for r in range(rows):\n",
    "            for c in range(cols): \n",
    "                if r!=c: # only consider non-diagonal elements\n",
    "                    if out[r,c] != np.conj(out[c,r]):\n",
    "                        print('Not equal at matrix (r,c)=', r,c)\n",
    "                        problem=1\n",
    "    if problem == 1:\n",
    "        print('Failure: Matrix is not a diagonally symmetric matrix.')\n",
    "    else: \n",
    "        print('Success: Matrix is a diagonally symmetric matrix.')    "
   ]
  },
  {
   "cell_type": "code",
   "execution_count": 213,
   "metadata": {},
   "outputs": [
    {
     "name": "stdout",
     "output_type": "stream",
     "text": [
      "('Sparsity:', 0.5, 'Number elements: ', 4, 'Nonzero: ', 2)\n",
      "Success: Matrix is a diagonally symmetric matrix.\n",
      "('Sparsity:', 0.25, 'Number elements: ', 16, 'Nonzero: ', 4)\n",
      "Success: Matrix is a diagonally symmetric matrix.\n",
      "('Sparsity:', 0.125, 'Number elements: ', 64, 'Nonzero: ', 8)\n",
      "Success: Matrix is a diagonally symmetric matrix.\n",
      "('Sparsity:', 0.0625, 'Number elements: ', 256, 'Nonzero: ', 16)\n",
      "Success: Matrix is a diagonally symmetric matrix.\n",
      "('Sparsity:', 0.03125, 'Number elements: ', 1024, 'Nonzero: ', 32)\n",
      "Success: Matrix is a diagonally symmetric matrix.\n",
      "('Sparsity:', 0.015625, 'Number elements: ', 4096, 'Nonzero: ', 64)\n",
      "Success: Matrix is a diagonally symmetric matrix.\n",
      "('Sparsity:', 0.0078125, 'Number elements: ', 16384, 'Nonzero: ', 128)\n",
      "Success: Matrix is a diagonally symmetric matrix.\n",
      "('Sparsity:', 0.00390625, 'Number elements: ', 65536, 'Nonzero: ', 256)\n",
      "Success: Matrix is a diagonally symmetric matrix.\n",
      "('Sparsity:', 0.001953125, 'Number elements: ', 262144, 'Nonzero: ', 512)\n",
      "Success: Matrix is a diagonally symmetric matrix.\n"
     ]
    }
   ],
   "source": [
    "for i in range(1,10):\n",
    "    output= get_matrix(i)\n",
    "    check_diagonal(output)"
   ]
  },
  {
   "cell_type": "code",
   "execution_count": 212,
   "metadata": {},
   "outputs": [
    {
     "name": "stdout",
     "output_type": "stream",
     "text": [
      "ye\n"
     ]
    }
   ],
   "source": [
    "\n",
    "a =get_matrix(10)\n",
    "print('ye')"
   ]
  },
  {
   "cell_type": "code",
   "execution_count": null,
   "metadata": {
    "collapsed": true
   },
   "outputs": [],
   "source": []
  }
 ],
 "metadata": {
  "kernelspec": {
   "display_name": "python2.7",
   "language": "python",
   "name": "python2.7"
  },
  "language_info": {
   "codemirror_mode": {
    "name": "ipython",
    "version": 2
   },
   "file_extension": ".py",
   "mimetype": "text/x-python",
   "name": "python",
   "nbconvert_exporter": "python",
   "pygments_lexer": "ipython2",
   "version": "2.7.13"
  }
 },
 "nbformat": 4,
 "nbformat_minor": 2
}
