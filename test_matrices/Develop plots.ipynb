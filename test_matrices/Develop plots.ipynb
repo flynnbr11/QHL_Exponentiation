{
 "cells": [
  {
   "cell_type": "code",
   "execution_count": 1,
   "metadata": {
    "collapsed": true
   },
   "outputs": [],
   "source": [
    "import numpy as np\n",
    "import scipy as sp\n",
    "from scipy import linalg \n",
    "import time as time\n",
    "import random_matrix as rm\n",
    "import matplotlib.pyplot as plt ## doesn't exist in python2.7 ????????\n",
    "import sys\n",
    "import os as os\n"
   ]
  },
  {
   "cell_type": "code",
   "execution_count": 2,
   "metadata": {
    "collapsed": true
   },
   "outputs": [],
   "source": [
    "sys.path.append(os.path.join(\"..\"))\n",
    "import matrix_utils as mu\n"
   ]
  },
  {
   "cell_type": "code",
   "execution_count": 45,
   "metadata": {},
   "outputs": [
    {
     "name": "stdout",
     "output_type": "stream",
     "text": [
      "ok\n",
      "ok\n",
      "ok\n",
      "ok\n",
      "ok\n",
      "ok\n",
      "ok\n",
      "ok\n",
      "ok\n",
      "tracking:\n",
      "[[  2.00000000e+00   1.61600113e-03   1.47104263e-04   1.09854133e+01]\n",
      " [  4.00000000e+00   1.39403343e-03   1.99079514e-04   7.00239521e+00]\n",
      " [  8.00000000e+00   8.44001770e-04   2.02894211e-04   4.15981199e+00]\n",
      " [  1.60000000e+01   3.75008583e-03   5.19037247e-04   7.22508039e+00]\n",
      " [  3.20000000e+01   2.52101421e-02   2.16293335e-03   1.16555335e+01]\n",
      " [  6.40000000e+01   6.77769184e-02   1.55999660e-02   4.34468371e+00]\n",
      " [  1.28000000e+02   7.69338608e-02   1.31610870e-01   5.84555520e-01]\n",
      " [  2.56000000e+02   5.25429964e-01   7.20131159e-01   7.29630926e-01]\n",
      " [  5.12000000e+02   4.55694294e+00   1.74269700e+01   2.61487966e-01]]\n"
     ]
    }
   ],
   "source": [
    "#matrix_sizes = [1,2,3,3]\n",
    "matrix_sizes = range(1,6)\n",
    "track_times=np.zeros([len(matrix_sizes), 4])\n",
    "\n",
    "for i in range(0,len(matrix_sizes)):\n",
    "    size=matrix_sizes[i]\n",
    "    mat= rm.get_matrix(size)\n",
    "\n",
    "    a = time.time()\n",
    "    linalg.expm(mat)\n",
    "    b = time.time()\n",
    "\n",
    "    c=time.time()\n",
    "    emat = mu.expm_special(mat)\n",
    "    d=time.time()\n",
    "\n",
    "    time_linalg = b-a\n",
    "    time_expm = d-c\n",
    "\n",
    "    track_times[i,0]= 2**matrix_sizes[i]\n",
    "    track_times[i,1]= time_linalg\n",
    "    track_times[i,2]= time_expm\n",
    "    track_times[i,3]= time_linalg/time_expm\n",
    "\n",
    "print('tracking:')\n",
    "print(track_times) \n"
   ]
  },
  {
   "cell_type": "code",
   "execution_count": 53,
   "metadata": {},
   "outputs": [],
   "source": [
    "plt.semilogx(basex=2)\n",
    "plt.semilogy(track_times[:,0], track_times[:,1], label='LinAlg')\n",
    "plt.semilogy(track_times[:,0], track_times[:,2], label='ExpmSpecial')\n",
    "plt.legend()\n",
    "plt.show()\n",
    "#plt.savefig('times.png')"
   ]
  },
  {
   "cell_type": "code",
   "execution_count": 54,
   "metadata": {},
   "outputs": [
    {
     "data": {
      "image/png": "[encoded data removed]",
      "text/plain": [
       "<matplotlib.figure.Figure at 0x7f1368089c90>"
      ]
     },
     "metadata": {},
     "output_type": "display_data"
    }
   ],
   "source": [
    "plt.clf()\n",
    "plt.semilogx(basex=2)\n",
    "plt.plot(track_times[:,0], track_times[:,3], label='Ratio improvement using ExpmSpecial')\n",
    "plt.axhline(y=1, color='black', label='Improvement')\n",
    "plt.legend()\n",
    "plt.show()\n",
    "#plt.savefig('improvement.png')"
   ]
  }
 ],
 "metadata": {
  "kernelspec": {
   "display_name": "python2.7",
   "language": "python",
   "name": "python2.7"
  },
  "language_info": {
   "codemirror_mode": {
    "name": "ipython",
    "version": 2
   },
   "file_extension": ".py",
   "mimetype": "text/x-python",
   "name": "python",
   "nbconvert_exporter": "python",
   "pygments_lexer": "ipython2",
   "version": "2.7.13"
  }
 },
 "nbformat": 4,
 "nbformat_minor": 2
}
