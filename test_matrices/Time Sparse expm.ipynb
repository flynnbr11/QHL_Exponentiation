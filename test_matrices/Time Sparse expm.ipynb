{
 "cells": [
  {
   "cell_type": "code",
   "execution_count": 1,
   "metadata": {
    "collapsed": true
   },
   "outputs": [],
   "source": [
    "import scipy\n",
    "from scipy import linalg\n",
    "from scipy.sparse.linalg import LinearOperator\n",
    "from scipy.sparse import csr_matrix\n",
    "import time as time\n",
    "import matplotlib.pyplot as plt ## doesn't exist in python2.7 ????????\n",
    "import numpy as np\n",
    "import sys\n",
    "np.set_printoptions(threshold=np.inf)\n",
    "\n",
    "def sigmax():\n",
    "    return np.array([[0+0j, 1+0j], [1+0j, 0+0j]])\n",
    "\n",
    "def sigmay():\n",
    "    return np.array([[0+0j, 0-1j], [0+1j, 0+0j]])\n",
    "\n",
    "def sigmaz():\n",
    "    return np.array([[1+0j, 0+0j], [0+0j, -1+0j]])\n",
    "\n",
    "def get_matrix(matrix_size):\n",
    "    oplist = [sigmax(), sigmay(), sigmaz()]\n",
    "    size = matrix_size\n",
    "    select=np.round((len(oplist)-1)*np.random.rand(size))\n",
    "    newoplist = [oplist[int(i)] for i in select]\n",
    "    params=np.random.rand(size)\n",
    "\n",
    "    if len(params)==1:\n",
    "        output = params[0]*newoplist[0]\n",
    "    else:\n",
    "        for i in range(len(params)-1):\n",
    "                if i==0:\n",
    "                    output = np.kron(params[i]*newoplist[i], params[i+1]*newoplist[i+1])\n",
    "                else:\n",
    "                    output = np.kron(output, params[i+1]*newoplist[i+1])\n",
    "    return output\n",
    "\n",
    "\n",
    "def check_symmetric(mtx):\n",
    "    rows=np.shape(mtx)[0]\n",
    "    cols=np.shape(mtx)[1]\n",
    "    problem = 0 \n",
    "    if rows!=cols: \n",
    "        print('Not a square matrix.')\n",
    "        problem = 1\n",
    "        return 1\n",
    "    else: \n",
    "        for r in range(rows):\n",
    "            for c in range(cols): \n",
    "                if r!=c: # only consider non-diagonal elements\n",
    "                    if mtx[r,c] != np.conj(mtx[c,r]):\n",
    "                        print('Not equal at matrix (r,c)=', r,c)\n",
    "                        problem=1\n",
    "    if problem == 1:\n",
    "        #print('Failure: Matrix is not a diagonally symmetric matrix.')\n",
    "        return 1\n",
    "    else: \n",
    "        #print('Success: Matrix is a diagonally symmetric matrix.')    \n",
    "        return 0\n",
    "        \n",
    "def check_sparse(mtx, print_sparsity=False):\n",
    "    non_zero_elements = np.count_nonzero(mtx)\n",
    "    total_num_elements = np.size(mtx)\n",
    "    sparsity = float(non_zero_elements)/float(total_num_elements)\n",
    "    if print_sparsity is True:\n",
    "        print('Sparsity:', sparsity, 'Number elements: ', total_num_elements, 'Nonzero: ', non_zero_elements)\n",
    "    \n",
    "    sp = scipy.sparse.csr_matrix(mtx)\n",
    "    if scipy.sparse.issparse(sp) is True:\n",
    "        #print 'Success: Matrix is sparse.'\n",
    "        return 0\n",
    "    else: \n",
    "        #print 'Failure: Matrix is not sparse.'\n",
    "        return 1\n",
    "    \n",
    "    \n",
    "    \n",
    "def time_sparse_expm(size):\n",
    "    mtx = get_matrix(size)\n",
    "    sparse_mtx = scipy.sparse.csc_matrix(mtx)\n",
    "    a=time.time()\n",
    "    scipy.sparse.linalg.expm(sparse_mtx)\n",
    "    b=time.time()\n",
    "    return b-a\n",
    "\n",
    "def time_linalg_expm(size):\n",
    "    mtx = get_matrix(size)\n",
    "    a=time.time()\n",
    "    scipy.linalg.expm(mtx)\n",
    "    b=time.time()\n",
    "    return b-a\n",
    "\n",
    "def time_expm(low=1, high=5):\n",
    "    limit=high\n",
    "    times = np.zeros([limit, 3])\n",
    "\n",
    "    for i in range(limit):\n",
    "        size = i + 1\n",
    "\n",
    "        sparse_time= time_sparse_expm(size)\n",
    "        non_sparse_time= time_linalg_expm(size)\n",
    "\n",
    "        times[i, 0]=size\n",
    "        times[i, 1]=sparse_time\n",
    "        times[i, 2]=non_sparse_time\n",
    "\n",
    "    track_times=times\n",
    "\n",
    "    plt.clf()\n",
    "    plt.plot(basex=2)\n",
    "    plt.semilogy(track_times[:,0], track_times[:,1], label='Sparse', marker='o')\n",
    "    plt.semilogy(track_times[:,0], track_times[:,2], label='Normal', marker='o')\n",
    "    plt.title('LinAlg Epxm implementations: sparse and normal.')\n",
    "    plt.xlabel('Number of qubits')\n",
    "    plt.ylabel('Time')\n",
    "    plt.legend()\n",
    "    #plt.show()\n",
    "    plt.savefig('expm_fncs_plots/expm_fncs_mtx_max_size_'+ str(size)+'.png')\n",
    "    \n",
    "    "
   ]
  },
  {
   "cell_type": "code",
   "execution_count": 9,
   "metadata": {},
   "outputs": [
    {
     "ename": "MemoryError",
     "evalue": "",
     "output_type": "error",
     "traceback": [
      "\u001b[0;31m---------------------------------------------------------------------------\u001b[0m",
      "\u001b[0;31mMemoryError\u001b[0m                               Traceback (most recent call last)",
      "\u001b[0;32m<ipython-input-9-177021538f6a>\u001b[0m in \u001b[0;36m<module>\u001b[0;34m()\u001b[0m\n\u001b[1;32m      3\u001b[0m \u001b[0;32mfor\u001b[0m \u001b[0mi\u001b[0m \u001b[0;32min\u001b[0m \u001b[0mrange\u001b[0m\u001b[0;34m(\u001b[0m\u001b[0mlimit\u001b[0m\u001b[0;34m)\u001b[0m\u001b[0;34m:\u001b[0m\u001b[0;34m\u001b[0m\u001b[0m\n\u001b[1;32m      4\u001b[0m     \u001b[0msize\u001b[0m\u001b[0;34m=\u001b[0m\u001b[0mi\u001b[0m\u001b[0;34m+\u001b[0m\u001b[0;36m1\u001b[0m\u001b[0;34m\u001b[0m\u001b[0m\n\u001b[0;32m----> 5\u001b[0;31m     \u001b[0msparse_time\u001b[0m \u001b[0;34m=\u001b[0m \u001b[0mtime_sparse_expm\u001b[0m\u001b[0;34m(\u001b[0m\u001b[0msize\u001b[0m\u001b[0;34m)\u001b[0m\u001b[0;34m\u001b[0m\u001b[0m\n\u001b[0m\u001b[1;32m      6\u001b[0m     \u001b[0mtrack_times\u001b[0m\u001b[0;34m[\u001b[0m\u001b[0mi\u001b[0m\u001b[0;34m,\u001b[0m \u001b[0;36m0\u001b[0m\u001b[0;34m]\u001b[0m\u001b[0;34m=\u001b[0m\u001b[0msize\u001b[0m\u001b[0;34m\u001b[0m\u001b[0m\n\u001b[1;32m      7\u001b[0m     \u001b[0mtrack_times\u001b[0m\u001b[0;34m[\u001b[0m\u001b[0mi\u001b[0m\u001b[0;34m,\u001b[0m \u001b[0;36m1\u001b[0m\u001b[0;34m]\u001b[0m\u001b[0;34m=\u001b[0m\u001b[0msparse_time\u001b[0m\u001b[0;34m\u001b[0m\u001b[0m\n",
      "\u001b[0;32m<ipython-input-1-df732ac6bb25>\u001b[0m in \u001b[0;36mtime_sparse_expm\u001b[0;34m(size)\u001b[0m\n\u001b[1;32m     76\u001b[0m \u001b[0;34m\u001b[0m\u001b[0m\n\u001b[1;32m     77\u001b[0m \u001b[0;32mdef\u001b[0m \u001b[0mtime_sparse_expm\u001b[0m\u001b[0;34m(\u001b[0m\u001b[0msize\u001b[0m\u001b[0;34m)\u001b[0m\u001b[0;34m:\u001b[0m\u001b[0;34m\u001b[0m\u001b[0m\n\u001b[0;32m---> 78\u001b[0;31m     \u001b[0mmtx\u001b[0m \u001b[0;34m=\u001b[0m \u001b[0mget_matrix\u001b[0m\u001b[0;34m(\u001b[0m\u001b[0msize\u001b[0m\u001b[0;34m)\u001b[0m\u001b[0;34m\u001b[0m\u001b[0m\n\u001b[0m\u001b[1;32m     79\u001b[0m     \u001b[0msparse_mtx\u001b[0m \u001b[0;34m=\u001b[0m \u001b[0mscipy\u001b[0m\u001b[0;34m.\u001b[0m\u001b[0msparse\u001b[0m\u001b[0;34m.\u001b[0m\u001b[0mcsc_matrix\u001b[0m\u001b[0;34m(\u001b[0m\u001b[0mmtx\u001b[0m\u001b[0;34m)\u001b[0m\u001b[0;34m\u001b[0m\u001b[0m\n\u001b[1;32m     80\u001b[0m     \u001b[0ma\u001b[0m\u001b[0;34m=\u001b[0m\u001b[0mtime\u001b[0m\u001b[0;34m.\u001b[0m\u001b[0mtime\u001b[0m\u001b[0;34m(\u001b[0m\u001b[0;34m)\u001b[0m\u001b[0;34m\u001b[0m\u001b[0m\n",
      "\u001b[0;32m<ipython-input-1-df732ac6bb25>\u001b[0m in \u001b[0;36mget_matrix\u001b[0;34m(matrix_size)\u001b[0m\n\u001b[1;32m     32\u001b[0m                     \u001b[0moutput\u001b[0m \u001b[0;34m=\u001b[0m \u001b[0mnp\u001b[0m\u001b[0;34m.\u001b[0m\u001b[0mkron\u001b[0m\u001b[0;34m(\u001b[0m\u001b[0mparams\u001b[0m\u001b[0;34m[\u001b[0m\u001b[0mi\u001b[0m\u001b[0;34m]\u001b[0m\u001b[0;34m*\u001b[0m\u001b[0mnewoplist\u001b[0m\u001b[0;34m[\u001b[0m\u001b[0mi\u001b[0m\u001b[0;34m]\u001b[0m\u001b[0;34m,\u001b[0m \u001b[0mparams\u001b[0m\u001b[0;34m[\u001b[0m\u001b[0mi\u001b[0m\u001b[0;34m+\u001b[0m\u001b[0;36m1\u001b[0m\u001b[0;34m]\u001b[0m\u001b[0;34m*\u001b[0m\u001b[0mnewoplist\u001b[0m\u001b[0;34m[\u001b[0m\u001b[0mi\u001b[0m\u001b[0;34m+\u001b[0m\u001b[0;36m1\u001b[0m\u001b[0;34m]\u001b[0m\u001b[0;34m)\u001b[0m\u001b[0;34m\u001b[0m\u001b[0m\n\u001b[1;32m     33\u001b[0m                 \u001b[0;32melse\u001b[0m\u001b[0;34m:\u001b[0m\u001b[0;34m\u001b[0m\u001b[0m\n\u001b[0;32m---> 34\u001b[0;31m                     \u001b[0moutput\u001b[0m \u001b[0;34m=\u001b[0m \u001b[0mnp\u001b[0m\u001b[0;34m.\u001b[0m\u001b[0mkron\u001b[0m\u001b[0;34m(\u001b[0m\u001b[0moutput\u001b[0m\u001b[0;34m,\u001b[0m \u001b[0mparams\u001b[0m\u001b[0;34m[\u001b[0m\u001b[0mi\u001b[0m\u001b[0;34m+\u001b[0m\u001b[0;36m1\u001b[0m\u001b[0;34m]\u001b[0m\u001b[0;34m*\u001b[0m\u001b[0mnewoplist\u001b[0m\u001b[0;34m[\u001b[0m\u001b[0mi\u001b[0m\u001b[0;34m+\u001b[0m\u001b[0;36m1\u001b[0m\u001b[0;34m]\u001b[0m\u001b[0;34m)\u001b[0m\u001b[0;34m\u001b[0m\u001b[0m\n\u001b[0m\u001b[1;32m     35\u001b[0m     \u001b[0;32mreturn\u001b[0m \u001b[0moutput\u001b[0m\u001b[0;34m\u001b[0m\u001b[0m\n\u001b[1;32m     36\u001b[0m \u001b[0;34m\u001b[0m\u001b[0m\n",
      "\u001b[0;32m/home/brian/.local/lib/python2.7/site-packages/numpy/lib/shape_base.pyc\u001b[0m in \u001b[0;36mkron\u001b[0;34m(a, b)\u001b[0m\n\u001b[1;32m    811\u001b[0m             \u001b[0mbs\u001b[0m \u001b[0;34m=\u001b[0m \u001b[0;34m(\u001b[0m\u001b[0;36m1\u001b[0m\u001b[0;34m,\u001b[0m\u001b[0;34m)\u001b[0m\u001b[0;34m*\u001b[0m\u001b[0;34m(\u001b[0m\u001b[0mnda\u001b[0m\u001b[0;34m-\u001b[0m\u001b[0mndb\u001b[0m\u001b[0;34m)\u001b[0m \u001b[0;34m+\u001b[0m \u001b[0mbs\u001b[0m\u001b[0;34m\u001b[0m\u001b[0m\n\u001b[1;32m    812\u001b[0m             \u001b[0mnd\u001b[0m \u001b[0;34m=\u001b[0m \u001b[0mnda\u001b[0m\u001b[0;34m\u001b[0m\u001b[0m\n\u001b[0;32m--> 813\u001b[0;31m     \u001b[0mresult\u001b[0m \u001b[0;34m=\u001b[0m \u001b[0mouter\u001b[0m\u001b[0;34m(\u001b[0m\u001b[0ma\u001b[0m\u001b[0;34m,\u001b[0m \u001b[0mb\u001b[0m\u001b[0;34m)\u001b[0m\u001b[0;34m.\u001b[0m\u001b[0mreshape\u001b[0m\u001b[0;34m(\u001b[0m\u001b[0mas_\u001b[0m\u001b[0;34m+\u001b[0m\u001b[0mbs\u001b[0m\u001b[0;34m)\u001b[0m\u001b[0;34m\u001b[0m\u001b[0m\n\u001b[0m\u001b[1;32m    814\u001b[0m     \u001b[0maxis\u001b[0m \u001b[0;34m=\u001b[0m \u001b[0mnd\u001b[0m\u001b[0;34m-\u001b[0m\u001b[0;36m1\u001b[0m\u001b[0;34m\u001b[0m\u001b[0m\n\u001b[1;32m    815\u001b[0m     \u001b[0;32mfor\u001b[0m \u001b[0m_\u001b[0m \u001b[0;32min\u001b[0m \u001b[0mrange\u001b[0m\u001b[0;34m(\u001b[0m\u001b[0mnd\u001b[0m\u001b[0;34m)\u001b[0m\u001b[0;34m:\u001b[0m\u001b[0;34m\u001b[0m\u001b[0m\n",
      "\u001b[0;32m/home/brian/.local/lib/python2.7/site-packages/numpy/core/numeric.pyc\u001b[0m in \u001b[0;36mouter\u001b[0;34m(a, b, out)\u001b[0m\n\u001b[1;32m   1152\u001b[0m     \u001b[0ma\u001b[0m \u001b[0;34m=\u001b[0m \u001b[0masarray\u001b[0m\u001b[0;34m(\u001b[0m\u001b[0ma\u001b[0m\u001b[0;34m)\u001b[0m\u001b[0;34m\u001b[0m\u001b[0m\n\u001b[1;32m   1153\u001b[0m     \u001b[0mb\u001b[0m \u001b[0;34m=\u001b[0m \u001b[0masarray\u001b[0m\u001b[0;34m(\u001b[0m\u001b[0mb\u001b[0m\u001b[0;34m)\u001b[0m\u001b[0;34m\u001b[0m\u001b[0m\n\u001b[0;32m-> 1154\u001b[0;31m     \u001b[0;32mreturn\u001b[0m \u001b[0mmultiply\u001b[0m\u001b[0;34m(\u001b[0m\u001b[0ma\u001b[0m\u001b[0;34m.\u001b[0m\u001b[0mravel\u001b[0m\u001b[0;34m(\u001b[0m\u001b[0;34m)\u001b[0m\u001b[0;34m[\u001b[0m\u001b[0;34m:\u001b[0m\u001b[0;34m,\u001b[0m \u001b[0mnewaxis\u001b[0m\u001b[0;34m]\u001b[0m\u001b[0;34m,\u001b[0m \u001b[0mb\u001b[0m\u001b[0;34m.\u001b[0m\u001b[0mravel\u001b[0m\u001b[0;34m(\u001b[0m\u001b[0;34m)\u001b[0m\u001b[0;34m[\u001b[0m\u001b[0mnewaxis\u001b[0m\u001b[0;34m,\u001b[0m\u001b[0;34m:\u001b[0m\u001b[0;34m]\u001b[0m\u001b[0;34m,\u001b[0m \u001b[0mout\u001b[0m\u001b[0;34m)\u001b[0m\u001b[0;34m\u001b[0m\u001b[0m\n\u001b[0m\u001b[1;32m   1155\u001b[0m \u001b[0;34m\u001b[0m\u001b[0m\n\u001b[1;32m   1156\u001b[0m \u001b[0;34m\u001b[0m\u001b[0m\n",
      "\u001b[0;31mMemoryError\u001b[0m: "
     ]
    }
   ],
   "source": [
    "limit=20\n",
    "track_times=np.zeros([limit, 2])\n",
    "for i in range(limit):\n",
    "    size=i+1\n",
    "    sparse_time = time_sparse_expm(size)\n",
    "    track_times[i, 0]=size\n",
    "    track_times[i, 1]=sparse_time\n",
    "\n",
    "    plt.clf()\n",
    "    plt.plot(basex=2)\n",
    "    plt.semilogy(track_times[:,0], track_times[:,1], label='Sparse', marker='o')\n",
    "    plt.title('Sparse LinAlg Epxm implementation.')\n",
    "    plt.xlabel('Number of qubits')\n",
    "    plt.ylabel('Time')\n",
    "    plt.legend()\n",
    "    #plt.show()\n",
    "    plt.savefig('expm_fncs_plots/sparse_expm_times_up_to_'+ str(size)+'_qubits.png')\n",
    "    "
   ]
  },
  {
   "cell_type": "code",
   "execution_count": 4,
   "metadata": {},
   "outputs": [
    {
     "data": {
      "text/plain": [
       "14.629533052444458"
      ]
     },
     "execution_count": 4,
     "metadata": {},
     "output_type": "execute_result"
    }
   ],
   "source": [
    "a"
   ]
  },
  {
   "cell_type": "code",
   "execution_count": null,
   "metadata": {
    "collapsed": true
   },
   "outputs": [],
   "source": []
  }
 ],
 "metadata": {
  "kernelspec": {
   "display_name": "python2.7",
   "language": "python",
   "name": "python2.7"
  },
  "language_info": {
   "codemirror_mode": {
    "name": "ipython",
    "version": 2
   },
   "file_extension": ".py",
   "mimetype": "text/x-python",
   "name": "python",
   "nbconvert_exporter": "python",
   "pygments_lexer": "ipython2",
   "version": "2.7.13"
  }
 },
 "nbformat": 4,
 "nbformat_minor": 2
}
