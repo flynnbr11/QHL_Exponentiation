{
 "cells": [
  {
   "cell_type": "code",
   "execution_count": 1,
   "metadata": {},
   "outputs": [],
   "source": [
    "import hamiltonian_exponentiation as h\n",
    "import numpy as np\n",
    "import scipy\n",
    "from scipy.sparse import csr_matrix"
   ]
  },
  {
   "cell_type": "code",
   "execution_count": 2,
   "metadata": {},
   "outputs": [
    {
     "name": "stdout",
     "output_type": "stream",
     "text": [
      "[[ 0.00000000+0.j          0.00000000-0.22654771j  0.00000000+0.j\n",
      "  -0.28537597+0.j        ]\n",
      " [ 0.00000000+0.22654771j  0.00000000+0.j          0.28537597+0.j\n",
      "   0.00000000+0.j        ]\n",
      " [ 0.00000000+0.j          0.28537597+0.j          0.00000000+0.j\n",
      "   0.00000000+0.22654771j]\n",
      " [-0.28537597+0.j          0.00000000+0.j          0.00000000-0.22654771j\n",
      "   0.00000000+0.j        ]]\n"
     ]
    }
   ],
   "source": [
    "ham_size = 2\n",
    "ham_1 = h.random_hamiltonian(ham_size)\n",
    "ham_2 = h.random_hamiltonian(ham_size)\n",
    "ham = ham_1 + ham_2\n",
    "\n",
    "# To ensure at least one row has zero nonnegative elements. \n",
    "print(ham)"
   ]
  },
  {
   "cell_type": "code",
   "execution_count": 3,
   "metadata": {},
   "outputs": [],
   "source": [
    "ham = np.array( [[0j, 0j, 0j, 0.52], [0j,0j,0.67,0j], [0j, 0.67, 0j, 0j], [0.52,0j,0j,0j]])"
   ]
  },
  {
   "cell_type": "code",
   "execution_count": null,
   "metadata": {},
   "outputs": [],
   "source": []
  },
  {
   "cell_type": "code",
   "execution_count": 4,
   "metadata": {},
   "outputs": [
    {
     "name": "stdout",
     "output_type": "stream",
     "text": [
      "[[ 0.0000000+0.j  0.0000000+0.j  0.0000000+0.j  0.7761194+0.j]\n",
      " [ 0.0000000+0.j  0.0000000+0.j  1.0000000+0.j  0.0000000+0.j]\n",
      " [ 0.0000000+0.j  1.0000000+0.j  0.0000000+0.j  0.0000000+0.j]\n",
      " [ 0.7761194+0.j  0.0000000+0.j  0.0000000+0.j  0.0000000+0.j]]\n"
     ]
    }
   ],
   "source": [
    "rescaled_ham = ham/np.max(ham)\n",
    "print(rescaled_ham)"
   ]
  },
  {
   "cell_type": "code",
   "execution_count": 5,
   "metadata": {},
   "outputs": [],
   "source": [
    "from scipy import linalg\n",
    "exp=h.exp_ham(ham,1)\n",
    "t=1\n",
    "lin=linalg.expm(-1j*ham*t)"
   ]
  },
  {
   "cell_type": "code",
   "execution_count": 6,
   "metadata": {},
   "outputs": [],
   "source": [
    "ident=np.identity(4, dtype=np.complex128)\n",
    "id_exp=h.exp_ham(ident,t)"
   ]
  },
  {
   "cell_type": "code",
   "execution_count": 7,
   "metadata": {},
   "outputs": [
    {
     "name": "stdout",
     "output_type": "stream",
     "text": [
      "[[ 0.00+0.j  0.52+0.j]\n",
      " [ 0.52+0.j  0.00+0.j]]\n",
      "[[ 0.00+0.j  1.04+0.j]\n",
      " [ 1.04+0.j  0.00+0.j]]\n",
      "[[ 0.5408+0.j  0.0000+0.j]\n",
      " [ 0.0000+0.j  0.5408+0.j]]\n"
     ]
    }
   ],
   "source": [
    "ham = np.array( [[ 0j, 0.52], [0.52,0j]])\n",
    "ham_two = ham*2\n",
    "print(ham)\n",
    "print(ham_two)\n",
    "\n",
    "res  = np.dot(ham, ham_two)\n",
    "print(res)"
   ]
  },
  {
   "cell_type": "code",
   "execution_count": 8,
   "metadata": {},
   "outputs": [
    {
     "name": "stdout",
     "output_type": "stream",
     "text": [
      "mtx: \n",
      " [[ 0.00+0.j  0.52+0.j  0.00+0.j  0.52+0.j]\n",
      " [ 0.52+0.j  0.00+0.j  0.00+0.j  0.00+0.j]\n",
      " [ 0.00+0.j  0.00+0.j  0.00+0.j  0.00+0.j]\n",
      " [ 0.52+0.j  0.00+0.j  0.00+0.j  0.00+0.j]]\n",
      "mtx_2: \n",
      " [[ 0.00+0.j  0.52+0.j  0.00+0.j  0.52+0.j]\n",
      " [ 0.52+0.j  0.00+0.j  0.00+0.j  0.00+0.j]\n",
      " [ 0.00+0.j  0.00+0.j  0.00+0.j  0.00+0.j]\n",
      " [ 0.52+0.j  0.00+0.j  0.00+0.j  0.00+0.j]]\n",
      "prod:\n",
      " [[ 0.5408+0.j  0.0000+0.j  0.0000+0.j  0.0000+0.j]\n",
      " [ 0.0000+0.j  0.2704+0.j  0.0000+0.j  0.2704+0.j]\n",
      " [ 0.0000+0.j  0.0000+0.j  0.0000+0.j  0.0000+0.j]\n",
      " [ 0.0000+0.j  0.2704+0.j  0.0000+0.j  0.2704+0.j]]\n"
     ]
    }
   ],
   "source": [
    "mtx =  np.array( [[0j, 0.52, 0j, 0.52], [0.52,0j,0j,0j], [0j, 0j, 0j, 0j], [0.52, 0j,0j,0j]])\n",
    "mtx_2 =  np.array( [[0j, 0.52, 0j, 0.52], [0.52,0j,0j,0j], [0j, 0j, 0j, 0j], [0.52, 0j,0j,0j]])\n",
    "\n",
    "#mtx_2 = np.array( [[0j, 0j, 0j, 0j], [0j, 0j,0.23,0.23], [0j, 0.23, 0j, 0j], [0j, 0.23,0j,0j]])\n",
    "prod = np.dot(mtx, mtx_2)\n",
    "print(\"mtx: \\n\", mtx)\n",
    "print(\"mtx_2: \\n\", mtx_2)\n",
    "print(\"prod:\\n\", prod)"
   ]
  },
  {
   "cell_type": "code",
   "execution_count": 10,
   "metadata": {},
   "outputs": [
    {
     "name": "stdout",
     "output_type": "stream",
     "text": [
      "mtx: \n",
      " [[ 0.00+0.j    0.00+0.j    0.00+0.j    0.52-0.08j]\n",
      " [ 0.00+0.j    0.00+0.j    0.52+0.08j  0.00+0.j  ]\n",
      " [ 0.00+0.j    0.52-0.08j  0.00+0.j    0.00+0.j  ]\n",
      " [ 0.52+0.08j  0.00+0.j    0.00+0.j    0.00+0.j  ]]\n",
      "mtx_2: \n",
      " [[ 0.52+0.08j  0.00+0.j    0.00+0.j    0.00+0.j  ]\n",
      " [ 0.00+0.j    0.52-0.08j  0.00+0.j    0.00+0.j  ]\n",
      " [ 0.00+0.j    0.00+0.j    0.52+0.08j  0.00+0.j  ]\n",
      " [ 0.00+0.j    0.00+0.j    0.00+0.j    0.52-0.08j]]\n",
      "ab-ba:\n",
      " [[ 0.+0.j  0.+0.j  0.+0.j  0.+0.j]\n",
      " [ 0.+0.j  0.+0.j  0.+0.j  0.+0.j]\n",
      " [ 0.+0.j  0.+0.j  0.+0.j  0.+0.j]\n",
      " [ 0.+0.j  0.+0.j  0.+0.j  0.+0.j]]\n",
      "prod \n",
      " [[ 0.000+0.j      0.000+0.j      0.000+0.j      0.264-0.0832j]\n",
      " [ 0.000+0.j      0.000+0.j      0.264+0.0832j  0.000+0.j    ]\n",
      " [ 0.000+0.j      0.264-0.0832j  0.000+0.j      0.000+0.j    ]\n",
      " [ 0.264+0.0832j  0.000+0.j      0.000+0.j      0.000+0.j    ]]\n"
     ]
    }
   ],
   "source": [
    "mtx =  np.array( [[0j, 0j, 0j, 0.52- 0.08j], [0j,0j,0.52+ 0.08j,0j], [0j, 0.52- 0.08j, 0j, 0j], [0.52+ 0.08j, 0j,0j,0j]])\n",
    "#mtx_2 =  np.array( [[0j, 0j, 0j, 0.52- 0.08j], [0j,0j,0.52+ 0.08j,0j], [0j, 0.52- 0.08j, 0j, 0j], [0.52+ 0.08j, 0j,0j,0j]])\n",
    "mtx_2 =  np.array([ [0.52+ 0.08j, 0j,0j,0j], [0j, 0.52- 0.08j, 0j, 0j], [0j,0j,0.52+ 0.08j,0j],  [0j, 0j, 0j, 0.52- 0.08j]])\n",
    "\n",
    "#mtx_2 = np.array( [[0j, 0j, 0j, 0j], [0j, 0j,0.23,0.23], [0j, 0.23, 0j, 0j], [0j, 0.23,0j,0j]])\n",
    "ab = np.dot(mtx, mtx_2)\n",
    "ba = np.dot(mtx, mtx_2)\n",
    "\n",
    "diff = ab-ba\n",
    "print(\"mtx: \\n\", mtx)\n",
    "print(\"mtx_2: \\n\", mtx_2)\n",
    "print(\"ab-ba:\\n\", diff)\n",
    "print(\"prod \\n\", np.dot(mtx, mtx_2))"
   ]
  },
  {
   "cell_type": "code",
   "execution_count": 11,
   "metadata": {},
   "outputs": [
    {
     "name": "stdout",
     "output_type": "stream",
     "text": [
      "[[ 0.86476312 -4.57150639e-35j  0.00000000 +0.00000000e+00j\n",
      "   0.00000000 +0.00000000e+00j -0.07636008 -4.96340499e-01j]\n",
      " [ 0.00000000 +0.00000000e+00j  0.86476312 +4.57150639e-35j\n",
      "   0.07636008 -4.96340499e-01j  0.00000000 +0.00000000e+00j]\n",
      " [ 0.00000000 +0.00000000e+00j -0.07636008 -4.96340499e-01j\n",
      "   0.86476312 -4.57150639e-35j  0.00000000 +0.00000000e+00j]\n",
      " [ 0.07636008 -4.96340499e-01j  0.00000000 +0.00000000e+00j\n",
      "   0.00000000 +0.00000000e+00j  0.86476312 +4.57150639e-35j]]\n"
     ]
    }
   ],
   "source": [
    "print(h.exp_ham(mtx,1))"
   ]
  },
  {
   "cell_type": "code",
   "execution_count": 10,
   "metadata": {},
   "outputs": [
    {
     "name": "stdout",
     "output_type": "stream",
     "text": [
      "(0.264+0.0832j)\n"
     ]
    }
   ],
   "source": [
    "a = 0.52 + 0.08j\n",
    "print(np.dot(a,a))"
   ]
  },
  {
   "cell_type": "code",
   "execution_count": 11,
   "metadata": {},
   "outputs": [
    {
     "data": {
      "text/plain": [
       "array([[ 0.+0.j        ,  0.+0.j        ,  0.+0.j        ,  0.+0.j        ,\n",
       "         0.+0.j        ,  0.+0.j        ,  0.+0.j        ,  0.-0.31438099j],\n",
       "       [ 0.+0.j        ,  0.+0.j        ,  0.+0.j        ,  0.+0.j        ,\n",
       "         0.+0.j        ,  0.+0.j        ,  0.+0.31438099j,  0.+0.j        ],\n",
       "       [ 0.+0.j        ,  0.+0.j        ,  0.+0.j        ,  0.+0.j        ,\n",
       "         0.+0.j        ,  0.-0.31438099j,  0.+0.j        ,  0.+0.j        ],\n",
       "       [ 0.+0.j        ,  0.+0.j        ,  0.+0.j        ,  0.+0.j        ,\n",
       "         0.+0.31438099j,  0.+0.j        ,  0.+0.j        ,  0.+0.j        ],\n",
       "       [ 0.+0.j        ,  0.+0.j        ,  0.+0.j        ,  0.-0.31438099j,\n",
       "         0.+0.j        ,  0.+0.j        ,  0.+0.j        ,  0.+0.j        ],\n",
       "       [ 0.+0.j        ,  0.+0.j        ,  0.+0.31438099j,  0.+0.j        ,\n",
       "         0.+0.j        ,  0.+0.j        ,  0.+0.j        ,  0.+0.j        ],\n",
       "       [ 0.+0.j        ,  0.-0.31438099j,  0.+0.j        ,  0.+0.j        ,\n",
       "         0.+0.j        ,  0.+0.j        ,  0.+0.j        ,  0.+0.j        ],\n",
       "       [ 0.+0.31438099j,  0.+0.j        ,  0.+0.j        ,  0.+0.j        ,\n",
       "         0.+0.j        ,  0.+0.j        ,  0.+0.j        ,  0.+0.j        ]])"
      ]
     },
     "execution_count": 11,
     "metadata": {},
     "output_type": "execute_result"
    }
   ],
   "source": [
    "h.random_hamiltonian(3)"
   ]
  },
  {
   "cell_type": "code",
   "execution_count": 12,
   "metadata": {},
   "outputs": [],
   "source": [
    "a_squared = (0.52)*(0.52) + (0.08)*(0.08)"
   ]
  },
  {
   "cell_type": "code",
   "execution_count": 13,
   "metadata": {},
   "outputs": [
    {
     "data": {
      "text/plain": [
       "0.8615999999999999"
      ]
     },
     "execution_count": 13,
     "metadata": {},
     "output_type": "execute_result"
    }
   ],
   "source": [
    "1-a_squared/2"
   ]
  },
  {
   "cell_type": "code",
   "execution_count": 36,
   "metadata": {},
   "outputs": [
    {
     "name": "stdout",
     "output_type": "stream",
     "text": [
      "k= 0 power= (1+0j)\n",
      "k= 1 power= -1j\n",
      "k= 2 power= (-1+0j)\n",
      "k= 3 power= 1j\n",
      "k= 4 power= (1+0j)\n",
      "k= 5 power= -1j\n",
      "k= 6 power= (-1+0j)\n",
      "k= 7 power= 1j\n",
      "k= 8 power= (1+0j)\n",
      "k= 9 power= -1j\n",
      "k= 10 power= (-1+0j)\n",
      "k= 11 power= 1j\n",
      "k= 12 power= (1+0j)\n",
      "k= 13 power= -1j\n",
      "k= 14 power= (-1+0j)\n",
      "k= 15 power= 1j\n",
      "k= 16 power= (1+0j)\n",
      "k= 17 power= -1j\n",
      "k= 18 power= (-1+0j)\n",
      "k= 19 power= 1j\n"
     ]
    }
   ],
   "source": [
    "k=2\n",
    "for k in range(20):\n",
    "    power = (-1j)**k\n",
    "    print(\"k=\", k, \"power=\", power)"
   ]
  },
  {
   "cell_type": "code",
   "execution_count": 13,
   "metadata": {},
   "outputs": [
    {
     "name": "stdout",
     "output_type": "stream",
     "text": [
      "Input Mtx\n",
      "[[ 0.00+0.j    0.52-0.08j]\n",
      " [ 0.52+0.08j  0.00+0.j  ]]\n",
      "\n",
      " \n",
      "\n",
      "k= 0 \t i^k =  (1+0j) \t 1/k! =  1.0 \t scalar =  (1+0j)\n",
      "Mtx^k\n",
      "[[ 1.+0.j  0.+0.j]\n",
      " [ 0.+0.j  1.+0.j]]\n",
      "1/k! *i^k * Mtx^k\n",
      "[[ 1.+0.j  0.+0.j]\n",
      " [ 0.+0.j  1.+0.j]]\n",
      "running sum\n",
      "[[ 1.+0.j  0.+0.j]\n",
      " [ 0.+0.j  1.+0.j]]\n",
      "\n",
      "\n",
      "k= 1 \t i^k =  -1j \t 1/k! =  1.0 \t scalar =  -1j\n",
      "Mtx^k\n",
      "[[ 0.00+0.j    0.52-0.08j]\n",
      " [ 0.52+0.08j  0.00+0.j  ]]\n",
      "1/k! *i^k * Mtx^k\n",
      "[[ 0.00+0.j   -0.08-0.52j]\n",
      " [ 0.08-0.52j  0.00+0.j  ]]\n",
      "running sum\n",
      "[[ 1.00+0.j   -0.08-0.52j]\n",
      " [ 0.08-0.52j  1.00+0.j  ]]\n",
      "\n",
      "\n",
      "k= 2 \t i^k =  (-1+0j) \t 1/k! =  0.5 \t scalar =  (-0.5+0j)\n",
      "Mtx^k\n",
      "[[ 0.2768+0.j  0.0000+0.j]\n",
      " [ 0.0000+0.j  0.2768+0.j]]\n",
      "1/k! *i^k * Mtx^k\n",
      "[[-0.1384+0.j -0.0000+0.j]\n",
      " [-0.0000+0.j -0.1384+0.j]]\n",
      "running sum\n",
      "[[ 0.8616+0.j   -0.0800-0.52j]\n",
      " [ 0.0800-0.52j  0.8616+0.j  ]]\n",
      "\n",
      "\n",
      "k= 3 \t i^k =  1j \t 1/k! =  0.166666666667 \t scalar =  0.16666666666666666j\n",
      "Mtx^k\n",
      "[[ 0.000000+0.j        0.143936-0.022144j]\n",
      " [ 0.143936+0.022144j  0.000000+0.j      ]]\n",
      "1/k! *i^k * Mtx^k\n",
      "[[ 0.00000000+0.j          0.00369067+0.02398933j]\n",
      " [-0.00369067+0.02398933j  0.00000000+0.j        ]]\n",
      "running sum\n",
      "[[ 0.86160000+0.j         -0.07630933-0.49601067j]\n",
      " [ 0.07630933-0.49601067j  0.86160000+0.j        ]]\n",
      "\n",
      "\n",
      "k= 4 \t i^k =  (1+0j) \t 1/k! =  0.0416666666667 \t scalar =  (0.041666666666666664+0j)\n",
      "Mtx^k\n",
      "[[ 0.07661824+0.j  0.00000000+0.j]\n",
      " [ 0.00000000+0.j  0.07661824+0.j]]\n",
      "1/k! *i^k * Mtx^k\n",
      "[[ 0.00319243+0.j  0.00000000+0.j]\n",
      " [ 0.00000000+0.j  0.00319243+0.j]]\n",
      "running sum\n",
      "[[ 0.86479243+0.j         -0.07630933-0.49601067j]\n",
      " [ 0.07630933-0.49601067j  0.86479243+0.j        ]]\n",
      "\n",
      "\n",
      "k= 5 \t i^k =  -1j \t 1/k! =  0.00833333333333 \t scalar =  -0.008333333333333333j\n",
      "Mtx^k\n",
      "[[ 0.00000000+0.j          0.03984148-0.00612946j]\n",
      " [ 0.03984148+0.00612946j  0.00000000+0.j        ]]\n",
      "1/k! *i^k * Mtx^k\n",
      "[[  0.00000000e+00+0.j          -5.10788267e-05-0.00033201j]\n",
      " [  5.10788267e-05-0.00033201j   0.00000000e+00+0.j        ]]\n",
      "running sum\n",
      "[[ 0.86479243+0.j         -0.07636041-0.49634268j]\n",
      " [ 0.07636041-0.49634268j  0.86479243+0.j        ]]\n",
      "\n",
      "\n"
     ]
    }
   ],
   "source": [
    "from scipy.special import factorial\n",
    "from numpy import linalg as nplg\n",
    "mtx = np.array([[0j,0.52 - 0.08j], [0.52 + 0.08j, 0j]])\n",
    "mtx_k = np.identity(2, dtype=np.complex128)\n",
    "running_mtx = np.identity(2, dtype=np.complex128)\n",
    "\n",
    "running_mtx -=mtx_k\n",
    "max_k=6\n",
    "print(\"Input Mtx\")\n",
    "print(mtx)\n",
    "print(\"\\n \\n\")\n",
    "\n",
    "for k in range(0,max_k):\n",
    "    i_to_k = (-1j)**k\n",
    "    one_over_k_fac = 1/factorial(k)\n",
    "    print(\"k=\", k, \"\\t i^k = \", i_to_k, \"\\t 1/k! = \", one_over_k_fac, \"\\t scalar = \", i_to_k*one_over_k_fac)\n",
    "    mtx_k = nplg.matrix_power(mtx,k)\n",
    "    print(\"Mtx^k\")\n",
    "    print(mtx_k)\n",
    "    next_mtx = one_over_k_fac * i_to_k * mtx_k\n",
    "    \n",
    "    running_mtx += next_mtx\n",
    "    print(\"1/k! *i^k * Mtx^k\")\n",
    "    print(next_mtx)\n",
    "    \n",
    "    print(\"running sum\")\n",
    "    print(running_mtx)\n",
    "    print(\"\\n\")"
   ]
  },
  {
   "cell_type": "code",
   "execution_count": 13,
   "metadata": {},
   "outputs": [
    {
     "name": "stdout",
     "output_type": "stream",
     "text": [
      "[[ 0.2704+0.j  0.0000+0.j  0.0000+0.j  0.0000+0.j]\n",
      " [ 0.0000+0.j  0.2704+0.j  0.0000+0.j  0.0000+0.j]\n",
      " [ 0.0000+0.j  0.0000+0.j  0.2704+0.j  0.0000+0.j]\n",
      " [ 0.0000+0.j  0.0000+0.j  0.0000+0.j  0.2704+0.j]]\n"
     ]
    }
   ],
   "source": [
    "idt = np.array( [[0.52, 0j, 0j, 0j], [0j, 0.52, 0j,0j], [0j, 0j, 0.52, 0j], [0j, 0j,0j,0.52]])\n",
    "idt2 = np.array( [[0.52, 0j, 0j, 0j], [0j, 0.52, 0j,0j], [0j, 0j, 0.52, 0j], [0j, 0j,0j,0.52]])\n",
    "\n",
    "print(np.dot(idt, idt2))"
   ]
  },
  {
   "cell_type": "code",
   "execution_count": 140,
   "metadata": {
    "collapsed": true
   },
   "outputs": [],
   "source": [
    "def matrix_preprocessing(ham): \n",
    "    sp_ham = scipy.sparse.csr_matrix(ham)\n",
    "    num_rows = np.shape(ham)[0]\n",
    "    num_nnz_by_row = sp_ham.getnnz(1)\n",
    "    max_nnz_in_any_row = max(num_nnz_by_row)\n",
    "    nnz_vals = np.zeros((num_rows, max_nnz_in_any_row), dtype=np.complex128)\n",
    "    nnz_col_locations = np.zeros((num_rows, max_nnz_in_any_row), dtype=int)\n",
    "    data = sp_ham.data\n",
    "    col_locations = sp_ham.indices\n",
    "\n",
    "    k=0\n",
    "    for i in range(num_rows):\n",
    "        for j in range(num_nnz_by_row[i]):\n",
    "            nnz_vals[i][j] = data[k]\n",
    "            nnz_col_locations[i][j] = col_locations[k]\n",
    "            k+=1\n",
    "\n",
    "    return max_nnz_in_any_row, num_nnz_by_row, nnz_vals, nnz_col_locations"
   ]
  },
  {
   "cell_type": "code",
   "execution_count": 154,
   "metadata": {
    "collapsed": true
   },
   "outputs": [],
   "source": [
    "max_nnz_in_any_row, num_nnz_by_row, nnz_vals, nnz_col_locations = matrix_preprocessing(ham)"
   ]
  },
  {
   "cell_type": "code",
   "execution_count": 155,
   "metadata": {},
   "outputs": [
    {
     "data": {
      "text/plain": [
       "1"
      ]
     },
     "execution_count": 155,
     "metadata": {},
     "output_type": "execute_result"
    }
   ],
   "source": [
    "max_nnz_in_any_row"
   ]
  },
  {
   "cell_type": "code",
   "execution_count": 164,
   "metadata": {
    "collapsed": true
   },
   "outputs": [],
   "source": [
    "t=1\n",
    "exp = h.exp_ham(ham,t)\n",
    "from scipy import linalg\n",
    "lin = linalg.expm(-1j*t*ham)"
   ]
  },
  {
   "cell_type": "code",
   "execution_count": 166,
   "metadata": {},
   "outputs": [
    {
     "data": {
      "text/plain": [
       "1.1102230246251565e-16j"
      ]
     },
     "execution_count": 166,
     "metadata": {},
     "output_type": "execute_result"
    }
   ],
   "source": [
    "np.max(lin -exp)"
   ]
  },
  {
   "cell_type": "code",
   "execution_count": 149,
   "metadata": {},
   "outputs": [
    {
     "name": "stdout",
     "output_type": "stream",
     "text": [
      "Row  0\n",
      "Col  6   value:  -0.176030772277j\n",
      "Col  11   value:  (-0.00344416376229+0j)\n",
      "Row  1\n",
      "Col  7   value:  0.176030772277j\n",
      "Col  10   value:  (-0.00344416376229+0j)\n",
      "Row  2\n",
      "Col  4   value:  -0.176030772277j\n",
      "Col  9   value:  (0.00344416376229+0j)\n",
      "Row  3\n",
      "Col  5   value:  0.176030772277j\n",
      "Col  8   value:  (0.00344416376229+0j)\n",
      "Row  4\n",
      "Col  2   value:  0.176030772277j\n",
      "Col  15   value:  (0.00344416376229+0j)\n",
      "Row  5\n",
      "Col  3   value:  -0.176030772277j\n",
      "Col  14   value:  (0.00344416376229+0j)\n",
      "Row  6\n",
      "Col  0   value:  0.176030772277j\n",
      "Col  13   value:  (-0.00344416376229+0j)\n",
      "Row  7\n",
      "Col  1   value:  -0.176030772277j\n",
      "Col  12   value:  (-0.00344416376229+0j)\n",
      "Row  8\n",
      "Col  3   value:  (0.00344416376229+0j)\n",
      "Col  14   value:  0.176030772277j\n",
      "Row  9\n",
      "Col  2   value:  (0.00344416376229+0j)\n",
      "Col  15   value:  -0.176030772277j\n",
      "Row  10\n",
      "Col  1   value:  (-0.00344416376229+0j)\n",
      "Col  12   value:  0.176030772277j\n",
      "Row  11\n",
      "Col  0   value:  (-0.00344416376229+0j)\n",
      "Col  13   value:  -0.176030772277j\n",
      "Row  12\n",
      "Col  7   value:  (-0.00344416376229+0j)\n",
      "Col  10   value:  -0.176030772277j\n",
      "Row  13\n",
      "Col  6   value:  (-0.00344416376229+0j)\n",
      "Col  11   value:  0.176030772277j\n",
      "Row  14\n",
      "Col  5   value:  (0.00344416376229+0j)\n",
      "Col  8   value:  -0.176030772277j\n",
      "Row  15\n",
      "Col  4   value:  (0.00344416376229+0j)\n",
      "Col  9   value:  0.176030772277j\n"
     ]
    }
   ],
   "source": [
    "num_rows = np.shape(ham)[0]\n",
    "for i in range(num_rows):\n",
    "    print(\"Row \", i)\n",
    "    for j in range(num_nnz_by_row[i]):\n",
    "        print(\"Col \", nnz_col_locations[i][j], \"  value: \", nnz_vals[i][j])"
   ]
  },
  {
   "cell_type": "code",
   "execution_count": null,
   "metadata": {
    "collapsed": true
   },
   "outputs": [],
   "source": []
  }
 ],
 "metadata": {
  "kernelspec": {
   "display_name": "Python 3",
   "language": "python",
   "name": "python3"
  },
  "language_info": {
   "codemirror_mode": {
    "name": "ipython",
    "version": 3
   },
   "file_extension": ".py",
   "mimetype": "text/x-python",
   "name": "python",
   "nbconvert_exporter": "python",
   "pygments_lexer": "ipython3",
   "version": "3.5.2"
  }
 },
 "nbformat": 4,
 "nbformat_minor": 2
}
